{
  "nbformat": 4,
  "nbformat_minor": 0,
  "metadata": {
    "colab": {
      "provenance": [],
      "include_colab_link": true
    },
    "kernelspec": {
      "name": "python3",
      "display_name": "Python 3"
    },
    "language_info": {
      "name": "python"
    }
  },
  "cells": [
    {
      "cell_type": "markdown",
      "metadata": {
        "id": "view-in-github",
        "colab_type": "text"
      },
      "source": [
        "<a href=\"https://colab.research.google.com/github/ChristopherTomala02/PROYECTO-1P/blob/main/HW7.ipynb\" target=\"_parent\"><img src=\"https://colab.research.google.com/assets/colab-badge.svg\" alt=\"Open In Colab\"/></a>"
      ]
    },
    {
      "cell_type": "markdown",
      "source": [
        "# **Puedes usar RTB para Python o Matlab:**\n",
        " Para un robot Sawyer obtenga: La tabla de parámetros DH  \n",
        " El jacobiano para una configuración deseada\n",
        "La matriz de proyección del espacio nulo.\n",
        "  \n",
        "Genere un mínimo de 2 conjuntos de movimientos en el espacio nulo y gráficalos para demostrar la teoría de los movimientos internos.   \n",
        "  ¿Qué pasaría si tuvieras diferentes dimensiones (coordenadas m) a nivel de tarea?\n",
        "Explicar Trabajarás en parejas.  AnteriorSiguiente"
      ],
      "metadata": {
        "id": "ruucmKN05Ucx"
      }
    },
    {
      "cell_type": "markdown",
      "source": [
        "# Para un robot Sawyer obtenga"
      ],
      "metadata": {
        "id": "dpsO3Pxi50D0"
      }
    },
    {
      "cell_type": "code",
      "source": [
        "!pip install roboticstoolbox-python"
      ],
      "metadata": {
        "colab": {
          "base_uri": "https://localhost:8080/"
        },
        "id": "2JS7dPfX6xmJ",
        "outputId": "4c179602-5b57-46c9-de5a-1f75f923aacc",
        "collapsed": true
      },
      "execution_count": null,
      "outputs": [
        {
          "output_type": "stream",
          "name": "stdout",
          "text": [
            "Collecting roboticstoolbox-python\n",
            "  Downloading roboticstoolbox_python-1.1.1.tar.gz (1.5 MB)\n",
            "\u001b[?25l     \u001b[90m━━━━━━━━━━━━━━━━━━━━━━━━━━━━━━━━━━━━━━━━\u001b[0m \u001b[32m0.0/1.5 MB\u001b[0m \u001b[31m?\u001b[0m eta \u001b[36m-:--:--\u001b[0m\r\u001b[2K     \u001b[91m━━━━━━\u001b[0m\u001b[90m╺\u001b[0m\u001b[90m━━━━━━━━━━━━━━━━━━━━━━━━━━━━━━━━━\u001b[0m \u001b[32m0.2/1.5 MB\u001b[0m \u001b[31m6.7 MB/s\u001b[0m eta \u001b[36m0:00:01\u001b[0m\r\u001b[2K     \u001b[91m━━━━━━━━━━━━━━━━━━━━━━━━━━━━━━━━━━━━━━━\u001b[0m\u001b[91m╸\u001b[0m \u001b[32m1.5/1.5 MB\u001b[0m \u001b[31m21.6 MB/s\u001b[0m eta \u001b[36m0:00:01\u001b[0m\r\u001b[2K     \u001b[90m━━━━━━━━━━━━━━━━━━━━━━━━━━━━━━━━━━━━━━━━\u001b[0m \u001b[32m1.5/1.5 MB\u001b[0m \u001b[31m14.2 MB/s\u001b[0m eta \u001b[36m0:00:00\u001b[0m\n",
            "\u001b[?25h  Installing build dependencies ... \u001b[?25l\u001b[?25hdone\n",
            "  Getting requirements to build wheel ... \u001b[?25l\u001b[?25hdone\n",
            "  Preparing metadata (pyproject.toml) ... \u001b[?25l\u001b[?25hdone\n",
            "Requirement already satisfied: numpy>=1.17.4 in /usr/local/lib/python3.10/dist-packages (from roboticstoolbox-python) (1.26.4)\n",
            "Collecting spatialmath-python>=1.1.5 (from roboticstoolbox-python)\n",
            "  Downloading spatialmath_python-1.1.11-py3-none-any.whl.metadata (17 kB)\n",
            "Collecting spatialgeometry>=1.0.0 (from roboticstoolbox-python)\n",
            "  Downloading spatialgeometry-1.1.0-cp310-cp310-manylinux_2_5_x86_64.manylinux1_x86_64.manylinux_2_17_x86_64.manylinux2014_x86_64.whl.metadata (4.5 kB)\n",
            "Collecting pgraph-python (from roboticstoolbox-python)\n",
            "  Downloading pgraph_python-0.6.2-py3-none-any.whl.metadata (6.9 kB)\n",
            "Requirement already satisfied: scipy in /usr/local/lib/python3.10/dist-packages (from roboticstoolbox-python) (1.13.1)\n",
            "Requirement already satisfied: matplotlib in /usr/local/lib/python3.10/dist-packages (from roboticstoolbox-python) (3.7.1)\n",
            "Collecting ansitable (from roboticstoolbox-python)\n",
            "  Downloading ansitable-0.11.2-py3-none-any.whl.metadata (27 kB)\n",
            "Collecting swift-sim>=1.0.0 (from roboticstoolbox-python)\n",
            "  Downloading swift_sim-1.1.0-cp310-cp310-manylinux_2_5_x86_64.manylinux1_x86_64.manylinux_2_17_x86_64.manylinux2014_x86_64.whl.metadata (8.3 kB)\n",
            "Collecting rtb-data (from roboticstoolbox-python)\n",
            "  Downloading rtb-data-1.0.1.tar.gz (114.7 MB)\n",
            "\u001b[2K     \u001b[90m━━━━━━━━━━━━━━━━━━━━━━━━━━━━━━━━━━━━━━━━\u001b[0m \u001b[32m114.7/114.7 MB\u001b[0m \u001b[31m6.0 MB/s\u001b[0m eta \u001b[36m0:00:00\u001b[0m\n",
            "\u001b[?25h  Preparing metadata (setup.py) ... \u001b[?25l\u001b[?25hdone\n",
            "Collecting progress (from roboticstoolbox-python)\n",
            "  Downloading progress-1.6.tar.gz (7.8 kB)\n",
            "  Preparing metadata (setup.py) ... \u001b[?25l\u001b[?25hdone\n",
            "Requirement already satisfied: typing-extensions in /usr/local/lib/python3.10/dist-packages (from roboticstoolbox-python) (4.12.2)\n",
            "Collecting pre-commit (from spatialmath-python>=1.1.5->roboticstoolbox-python)\n",
            "  Downloading pre_commit-3.8.0-py2.py3-none-any.whl.metadata (1.3 kB)\n",
            "Collecting websockets (from swift-sim>=1.0.0->roboticstoolbox-python)\n",
            "  Downloading websockets-12.0-cp310-cp310-manylinux_2_5_x86_64.manylinux1_x86_64.manylinux_2_17_x86_64.manylinux2014_x86_64.whl.metadata (6.6 kB)\n",
            "Collecting colored (from ansitable->roboticstoolbox-python)\n",
            "  Downloading colored-2.2.4-py3-none-any.whl.metadata (3.6 kB)\n",
            "Requirement already satisfied: contourpy>=1.0.1 in /usr/local/lib/python3.10/dist-packages (from matplotlib->roboticstoolbox-python) (1.2.1)\n",
            "Requirement already satisfied: cycler>=0.10 in /usr/local/lib/python3.10/dist-packages (from matplotlib->roboticstoolbox-python) (0.12.1)\n",
            "Requirement already satisfied: fonttools>=4.22.0 in /usr/local/lib/python3.10/dist-packages (from matplotlib->roboticstoolbox-python) (4.53.1)\n",
            "Requirement already satisfied: kiwisolver>=1.0.1 in /usr/local/lib/python3.10/dist-packages (from matplotlib->roboticstoolbox-python) (1.4.5)\n",
            "Requirement already satisfied: packaging>=20.0 in /usr/local/lib/python3.10/dist-packages (from matplotlib->roboticstoolbox-python) (24.1)\n",
            "Requirement already satisfied: pillow>=6.2.0 in /usr/local/lib/python3.10/dist-packages (from matplotlib->roboticstoolbox-python) (9.4.0)\n",
            "Requirement already satisfied: pyparsing>=2.3.1 in /usr/local/lib/python3.10/dist-packages (from matplotlib->roboticstoolbox-python) (3.1.2)\n",
            "Requirement already satisfied: python-dateutil>=2.7 in /usr/local/lib/python3.10/dist-packages (from matplotlib->roboticstoolbox-python) (2.8.2)\n",
            "Requirement already satisfied: six>=1.5 in /usr/local/lib/python3.10/dist-packages (from python-dateutil>=2.7->matplotlib->roboticstoolbox-python) (1.16.0)\n",
            "Collecting cfgv>=2.0.0 (from pre-commit->spatialmath-python>=1.1.5->roboticstoolbox-python)\n",
            "  Downloading cfgv-3.4.0-py2.py3-none-any.whl.metadata (8.5 kB)\n",
            "Collecting identify>=1.0.0 (from pre-commit->spatialmath-python>=1.1.5->roboticstoolbox-python)\n",
            "  Downloading identify-2.6.0-py2.py3-none-any.whl.metadata (4.4 kB)\n",
            "Collecting nodeenv>=0.11.1 (from pre-commit->spatialmath-python>=1.1.5->roboticstoolbox-python)\n",
            "  Downloading nodeenv-1.9.1-py2.py3-none-any.whl.metadata (21 kB)\n",
            "Requirement already satisfied: pyyaml>=5.1 in /usr/local/lib/python3.10/dist-packages (from pre-commit->spatialmath-python>=1.1.5->roboticstoolbox-python) (6.0.1)\n",
            "Collecting virtualenv>=20.10.0 (from pre-commit->spatialmath-python>=1.1.5->roboticstoolbox-python)\n",
            "  Downloading virtualenv-20.26.3-py3-none-any.whl.metadata (4.5 kB)\n",
            "Collecting distlib<1,>=0.3.7 (from virtualenv>=20.10.0->pre-commit->spatialmath-python>=1.1.5->roboticstoolbox-python)\n",
            "  Downloading distlib-0.3.8-py2.py3-none-any.whl.metadata (5.1 kB)\n",
            "Requirement already satisfied: filelock<4,>=3.12.2 in /usr/local/lib/python3.10/dist-packages (from virtualenv>=20.10.0->pre-commit->spatialmath-python>=1.1.5->roboticstoolbox-python) (3.15.4)\n",
            "Requirement already satisfied: platformdirs<5,>=3.9.1 in /usr/local/lib/python3.10/dist-packages (from virtualenv>=20.10.0->pre-commit->spatialmath-python>=1.1.5->roboticstoolbox-python) (4.2.2)\n",
            "Downloading spatialgeometry-1.1.0-cp310-cp310-manylinux_2_5_x86_64.manylinux1_x86_64.manylinux_2_17_x86_64.manylinux2014_x86_64.whl (1.5 MB)\n",
            "\u001b[2K   \u001b[90m━━━━━━━━━━━━━━━━━━━━━━━━━━━━━━━━━━━━━━━━\u001b[0m \u001b[32m1.5/1.5 MB\u001b[0m \u001b[31m62.9 MB/s\u001b[0m eta \u001b[36m0:00:00\u001b[0m\n",
            "\u001b[?25hDownloading spatialmath_python-1.1.11-py3-none-any.whl (187 kB)\n",
            "\u001b[2K   \u001b[90m━━━━━━━━━━━━━━━━━━━━━━━━━━━━━━━━━━━━━━━━\u001b[0m \u001b[32m187.7/187.7 kB\u001b[0m \u001b[31m13.8 MB/s\u001b[0m eta \u001b[36m0:00:00\u001b[0m\n",
            "\u001b[?25hDownloading swift_sim-1.1.0-cp310-cp310-manylinux_2_5_x86_64.manylinux1_x86_64.manylinux_2_17_x86_64.manylinux2014_x86_64.whl (2.1 MB)\n",
            "\u001b[2K   \u001b[90m━━━━━━━━━━━━━━━━━━━━━━━━━━━━━━━━━━━━━━━━\u001b[0m \u001b[32m2.1/2.1 MB\u001b[0m \u001b[31m35.5 MB/s\u001b[0m eta \u001b[36m0:00:00\u001b[0m\n",
            "\u001b[?25hDownloading ansitable-0.11.2-py3-none-any.whl (18 kB)\n",
            "Downloading pgraph_python-0.6.2-py3-none-any.whl (20 kB)\n",
            "Downloading colored-2.2.4-py3-none-any.whl (16 kB)\n",
            "Downloading pre_commit-3.8.0-py2.py3-none-any.whl (204 kB)\n",
            "\u001b[2K   \u001b[90m━━━━━━━━━━━━━━━━━━━━━━━━━━━━━━━━━━━━━━━━\u001b[0m \u001b[32m204.6/204.6 kB\u001b[0m \u001b[31m14.7 MB/s\u001b[0m eta \u001b[36m0:00:00\u001b[0m\n",
            "\u001b[?25hDownloading websockets-12.0-cp310-cp310-manylinux_2_5_x86_64.manylinux1_x86_64.manylinux_2_17_x86_64.manylinux2014_x86_64.whl (130 kB)\n",
            "\u001b[2K   \u001b[90m━━━━━━━━━━━━━━━━━━━━━━━━━━━━━━━━━━━━━━━━\u001b[0m \u001b[32m130.2/130.2 kB\u001b[0m \u001b[31m10.5 MB/s\u001b[0m eta \u001b[36m0:00:00\u001b[0m\n",
            "\u001b[?25hDownloading cfgv-3.4.0-py2.py3-none-any.whl (7.2 kB)\n",
            "Downloading identify-2.6.0-py2.py3-none-any.whl (98 kB)\n",
            "\u001b[2K   \u001b[90m━━━━━━━━━━━━━━━━━━━━━━━━━━━━━━━━━━━━━━━━\u001b[0m \u001b[32m99.0/99.0 kB\u001b[0m \u001b[31m7.7 MB/s\u001b[0m eta \u001b[36m0:00:00\u001b[0m\n",
            "\u001b[?25hDownloading nodeenv-1.9.1-py2.py3-none-any.whl (22 kB)\n",
            "Downloading virtualenv-20.26.3-py3-none-any.whl (5.7 MB)\n",
            "\u001b[2K   \u001b[90m━━━━━━━━━━━━━━━━━━━━━━━━━━━━━━━━━━━━━━━━\u001b[0m \u001b[32m5.7/5.7 MB\u001b[0m \u001b[31m92.2 MB/s\u001b[0m eta \u001b[36m0:00:00\u001b[0m\n",
            "\u001b[?25hDownloading distlib-0.3.8-py2.py3-none-any.whl (468 kB)\n",
            "\u001b[2K   \u001b[90m━━━━━━━━━━━━━━━━━━━━━━━━━━━━━━━━━━━━━━━━\u001b[0m \u001b[32m468.9/468.9 kB\u001b[0m \u001b[31m31.2 MB/s\u001b[0m eta \u001b[36m0:00:00\u001b[0m\n",
            "\u001b[?25hBuilding wheels for collected packages: roboticstoolbox-python, progress, rtb-data\n",
            "  Building wheel for roboticstoolbox-python (pyproject.toml) ... \u001b[?25l\u001b[?25hdone\n",
            "  Created wheel for roboticstoolbox-python: filename=roboticstoolbox_python-1.1.1-cp310-cp310-linux_x86_64.whl size=12143608 sha256=dfc2aed4f608337574a2fb4933119100f7d340d83d516f1e1123c0084c0219af\n",
            "  Stored in directory: /root/.cache/pip/wheels/ff/09/f8/67220f27cfc351f64680a9125c3aec545d40d9a6add61f9d33\n",
            "  Building wheel for progress (setup.py) ... \u001b[?25l\u001b[?25hdone\n",
            "  Created wheel for progress: filename=progress-1.6-py3-none-any.whl size=9613 sha256=20aee9f2634f9a90ed083b37eb6033f7cef6cc14e069c1a3ec796d46db9536e3\n",
            "  Stored in directory: /root/.cache/pip/wheels/a2/68/5f/c339b20a41659d856c93ccdce6a33095493eb82c3964aac5a1\n",
            "  Building wheel for rtb-data (setup.py) ... \u001b[?25l\u001b[?25hdone\n",
            "  Created wheel for rtb-data: filename=rtb_data-1.0.1-py3-none-any.whl size=115135912 sha256=52dfba8fb92c505317ae0da652e5a7287994976dbd488b9afcda09f18ea962f2\n",
            "  Stored in directory: /root/.cache/pip/wheels/9b/63/83/63178a96f65a0c2abfc035dff171d039e59acd3fbe7815cee2\n",
            "Successfully built roboticstoolbox-python progress rtb-data\n",
            "Installing collected packages: rtb-data, progress, distlib, websockets, virtualenv, nodeenv, identify, colored, cfgv, pre-commit, ansitable, spatialmath-python, spatialgeometry, pgraph-python, swift-sim, roboticstoolbox-python\n",
            "Successfully installed ansitable-0.11.2 cfgv-3.4.0 colored-2.2.4 distlib-0.3.8 identify-2.6.0 nodeenv-1.9.1 pgraph-python-0.6.2 pre-commit-3.8.0 progress-1.6 roboticstoolbox-python-1.1.1 rtb-data-1.0.1 spatialgeometry-1.1.0 spatialmath-python-1.1.11 swift-sim-1.1.0 virtualenv-20.26.3 websockets-12.0\n"
          ]
        }
      ]
    },
    {
      "cell_type": "markdown",
      "source": [
        "# The DH parameters table"
      ],
      "metadata": {
        "id": "S6pvGdF0gxyL"
      }
    },
    {
      "cell_type": "code",
      "source": [
        "#Importar\n",
        "import roboticstoolbox as rtb\n",
        "\n",
        "#Robot Sawyer\n",
        "sawyer = rtb.models.DH.Sawyer()#Se usaron el RTB para facilitar la carga de datos\n",
        "print(sawyer)\n"
      ],
      "metadata": {
        "colab": {
          "base_uri": "https://localhost:8080/"
        },
        "id": "4TU9qRE-5fhj",
        "outputId": "94a5d08a-31ea-49dd-cf88-1a6b6bd2f247"
      },
      "execution_count": null,
      "outputs": [
        {
          "output_type": "stream",
          "name": "stdout",
          "text": [
            "DHRobot: Sawyer (by Rethink Robotics), 7 joints (RRRRRRR), dynamics, standard DH parameters\n",
            "┌─────┬────────┬───────┬────────┐\n",
            "│ θⱼ  │   dⱼ   │  aⱼ   │   ⍺ⱼ   │\n",
            "├─────┼────────┼───────┼────────┤\n",
            "│  q1 │  0.317 │ 0.081 │ -90.0° │\n",
            "│  q2 │ 0.1925 │     0 │ -90.0° │\n",
            "│  q3 │    0.4 │     0 │ -90.0° │\n",
            "│  q4 │ 0.1685 │     0 │ -90.0° │\n",
            "│  q5 │    0.4 │     0 │ -90.0° │\n",
            "│  q6 │ 0.1363 │     0 │ -90.0° │\n",
            "│  q7 │ 0.1338 │     0 │   0.0° │\n",
            "└─────┴────────┴───────┴────────┘\n",
            "\n",
            "┌──┬──┐\n",
            "└──┴──┘\n",
            "\n",
            "┌──────┬─────┬─────┬─────┬─────┬─────┬─────┬─────┐\n",
            "│ name │ q0  │ q1  │ q2  │ q3  │ q4  │ q5  │ q6  │\n",
            "├──────┼─────┼─────┼─────┼─────┼─────┼─────┼─────┤\n",
            "│   qr │  0° │  0° │  0° │  0° │  0° │  0° │  0° │\n",
            "│   qz │  0° │  0° │  0° │  0° │  0° │  0° │  0° │\n",
            "└──────┴─────┴─────┴─────┴─────┴─────┴─────┴─────┘\n",
            "\n"
          ]
        }
      ]
    },
    {
      "cell_type": "markdown",
      "source": [
        "# The Jacobian for a desired configuration"
      ],
      "metadata": {
        "id": "vAHCWURbg4pe"
      }
    },
    {
      "cell_type": "code",
      "source": [
        "from math import pi\n",
        "#Establecemos la configuración\n",
        "qi = sawyer.qr #reposo\n",
        "qf= [-pi/3, pi/3, -pi/6, pi/6, -pi/4, pi/4, -pi/6]\n",
        "qt = rtb.jtraj(qi, qf, 100)#trayectoria\n",
        "# Jacobiano\n",
        "configuracionJ= qt.q[50]\n",
        "J = sawyer.jacob0(configuracionJ)\n",
        "print('Jacobiano')\n",
        "print(J)"
      ],
      "metadata": {
        "colab": {
          "base_uri": "https://localhost:8080/"
        },
        "id": "L8SFSwFX5zGf",
        "outputId": "65288254-6e14-4f52-9542-5af5112b31c4"
      },
      "execution_count": null,
      "outputs": [
        {
          "output_type": "stream",
          "name": "stdout",
          "text": [
            "Jacobiano\n",
            "[[-1.50448269e-01 -7.14611228e-02  8.30247456e-04 -2.57695761e-01\n",
            "  -1.34783348e-01 -8.15263868e-02  0.00000000e+00]\n",
            " [ 4.55307186e-02  4.22083783e-02  6.87978313e-02  7.00450268e-02\n",
            "   4.22663499e-02  6.42028228e-02  0.00000000e+00]\n",
            " [-1.17666054e-18  1.18309303e-01  2.02433725e-02  7.30707472e-02\n",
            "   3.65958646e-02  8.43831044e-02  0.00000000e+00]\n",
            " [ 1.27709420e-17  5.08562759e-01 -4.37885211e-01 -2.95148115e-01\n",
            "   1.98543720e-01  6.35899365e-01 -4.73380643e-01]\n",
            " [-8.19028280e-18  8.61024924e-01  2.58636080e-01 -9.45999792e-01\n",
            "  -1.97972759e-01  7.71280335e-01  4.17978926e-01]\n",
            " [ 1.00000000e+00  1.16843603e-16 -8.61024924e-01 -1.34059630e-01\n",
            "   9.59889149e-01  2.75434622e-02 -7.75373706e-01]]\n"
          ]
        }
      ]
    },
    {
      "cell_type": "markdown",
      "source": [
        "# The null space projection matrix"
      ],
      "metadata": {
        "id": "Zhn5FzfAhBOY"
      }
    },
    {
      "cell_type": "code",
      "execution_count": null,
      "metadata": {
        "colab": {
          "base_uri": "https://localhost:8080/"
        },
        "id": "fDxFuhTe5S3F",
        "outputId": "dd62543e-11db-4b34-9071-c55453ab891d"
      },
      "outputs": [
        {
          "output_type": "stream",
          "name": "stdout",
          "text": [
            "Proyección del espacio nulo\n",
            "[[ 0.19958972  0.14061982  0.02896182  0.04058751 -0.31185634 -0.10400216\n",
            "  -0.17153067]\n",
            " [ 0.14061982  0.0990729   0.02040488  0.0285957  -0.21971664 -0.07327413\n",
            "  -0.12085097]\n",
            " [ 0.02896182  0.02040488  0.00420255  0.00588952 -0.04525246 -0.01509141\n",
            "  -0.02489026]\n",
            " [ 0.04058751  0.0285957   0.00588952  0.00825366 -0.06341746 -0.02114933\n",
            "  -0.03488157]\n",
            " [-0.31185634 -0.21971664 -0.04525246 -0.06341746  0.48727148  0.16250202\n",
            "   0.26801444]\n",
            " [-0.10400216 -0.07327413 -0.01509141 -0.02114933  0.16250202  0.05419341\n",
            "   0.08938115]\n",
            " [-0.17153067 -0.12085097 -0.02489026 -0.03488157  0.26801444  0.08938115\n",
            "   0.14741626]]\n"
          ]
        }
      ],
      "source": [
        "import numpy as np\n",
        "mIdentidad = np.identity(7)\n",
        "Jt= J.T #Transpuesta de la Jacobina\n",
        "#Pseudoinversa de la Jacobina\n",
        "PIJ= np.dot(Jt, np.linalg.inv(np.dot(J,Jt)))\n",
        "#proyección del espacio nulo\n",
        "proyeccionN = mIdentidad - np.dot(PIJ, J)\n",
        "print('Proyección del espacio nulo')\n",
        "print(proyeccionN)\n",
        "# Mostramos la matriz de proyección del espacio nulo"
      ]
    },
    {
      "cell_type": "markdown",
      "source": [
        "Genere un mínimo de 2 conjuntos de movimientos en el espacio nulo y gráficalos para demostrar la teoría de los movimientos internos."
      ],
      "metadata": {
        "id": "Zmx_tvGG8ci4"
      }
    },
    {
      "cell_type": "code",
      "source": [
        "# Generamos dos vectores aleatorios en el espacio nulo\n",
        "p1 = [pi/4, pi/6, pi/8, pi/10, pi/12, pi/14, pi/16]\n",
        "p2 = [-pi/4, pi/8, -pi/8, pi/10, pi/12, pi/14, pi/16]\n",
        "#Movimientos\n",
        "m1= np.dot(proyeccionN, p1)\n",
        "m2= np.dot(proyeccionN, p2)\n",
        "v1= np.dot(J,m1)\n",
        "v2= np.dot(J,m2)\n",
        "\n",
        "pefincial = sawyer.fkine(qi).t\n",
        "pef1= sawyer.fkine(m1).t\n",
        "pef2 = sawyer.fkine(m2).t\n",
        "\n",
        "print('Movimiento 1')\n",
        "print(pefincial)\n",
        "print(pef1)\n",
        "print('Movimiento 2')\n",
        "print(pefincial)\n",
        "print(pef2)"
      ],
      "metadata": {
        "colab": {
          "base_uri": "https://localhost:8080/"
        },
        "id": "RcmSb8ez8bV0",
        "outputId": "d1c8078d-3396-4baf-97cb-0420772d1deb"
      },
      "execution_count": null,
      "outputs": [
        {
          "output_type": "stream",
          "name": "stdout",
          "text": [
            "Movimiento 1\n",
            "[0.081   0.1603  0.18325]\n",
            "[0.07697305 0.16619664 0.18254118]\n",
            "Movimiento 2\n",
            "[0.081   0.1603  0.18325]\n",
            "[0.08539054 0.12648179 0.18052327]\n"
          ]
        }
      ]
    },
    {
      "cell_type": "markdown",
      "source": [
        "# Gráficalos para demostrar la teoría de los movimientos internos.\n",
        "\n"
      ],
      "metadata": {
        "id": "i2SW6dDn9TOp"
      }
    },
    {
      "cell_type": "code",
      "source": [
        "import matplotlib.pyplot as plt\n",
        "fig= plt.figure()\n",
        "ax = fig.add_subplot(111, projection='3d')\n",
        "ax.set_title('Posiciones del Efector Final')\n",
        "# Configuración de la posición original\n",
        "ax.scatter(pefincial[0], pefincial[1], pefincial[2],\n",
        "           color='red', marker='o', s=100, label='Original')\n",
        "ax.text(pefincial[0], pefincial[1], pefincial[2],\n",
        "        'Original', color='red', fontsize=9)\n",
        "\n",
        "# primer movimiento en el espacio nulo\n",
        "ax.scatter(pef1[0], pef1[1], pef1[2],\n",
        "           color='green', marker='^', s=100, label=' Nulo 1')\n",
        "ax.text(pef1[0], pef1[1], pef1[2],\n",
        "        'Nulo 1', color='green', fontsize=9)\n",
        "\n",
        "# segundo movimiento en el espacio nulo\n",
        "ax.scatter(pef2[0], pef2[1], pef2[2],\n",
        "           color='blue', marker='s', s=100, label='Nulo 2')\n",
        "ax.text(pef2[0], pef2[1], pef2[2],\n",
        "        'Nulo 2', color='blue', fontsize=9)\n",
        "\n",
        "ax.set_xlabel('X')\n",
        "ax.set_ylabel('Y')\n",
        "ax.set_zlabel('Z')\n",
        "plt.show()"
      ],
      "metadata": {
        "colab": {
          "base_uri": "https://localhost:8080/",
          "height": 427
        },
        "id": "CMvDlSK58_Dj",
        "outputId": "84b9a590-071a-49e3-cbe5-6e1388500e3a"
      },
      "execution_count": null,
      "outputs": [
        {
          "output_type": "display_data",
          "data": {
            "text/plain": [
              "<Figure size 640x480 with 1 Axes>"
            ],
            "image/png": "[encoded data removed]"
          },
          "metadata": {}
        }
      ]
    },
    {
      "cell_type": "markdown",
      "source": [
        "# ¿Qué pasaría si tuvieras diferentes dimensiones (coordenadas m) a nivel de tarea?"
      ],
      "metadata": {
        "id": "NmMkJFvC70Hd"
      }
    },
    {
      "cell_type": "markdown",
      "source": [
        "Segun lo que hemos investigado muchos manipuladores modernos son redundantes: tienen más de seis grados de libertad. Podemos aprovechar esta redundancia haciendo que el robot optimice una medida de rendimiento y, al mismo tiempo, logre el objetivo original.\n",
        "\n",
        "\n"
      ],
      "metadata": {
        "id": "FBAZ_Ej1LgXX"
      }
    }
  ]
}